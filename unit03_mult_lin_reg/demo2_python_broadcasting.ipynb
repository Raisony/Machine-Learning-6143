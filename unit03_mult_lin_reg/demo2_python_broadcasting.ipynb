{
 "cells": [
  {
   "cell_type": "markdown",
   "metadata": {},
   "source": [
    "# Numpy Array Operations:  Axes and Broadcasting \n",
    "\n",
    "There is an excellent introduction to `numpy` multi-dimensional arrays on the [scipy](https://docs.scipy.org/doc/numpy-dev/user/quickstart.html) website.  In this note, we cover two concepts in a little more detail:\n",
    "* Using the `axis` feature \n",
    "* Python broadcasting\n",
    "\n",
    "We will need both of these for performing many of the numerical operations for the ML class.\n",
    "\n",
    "As usual, we begin by loading the `numpy` package."
   ]
  },
  {
   "cell_type": "code",
   "execution_count": 2,
   "metadata": {},
   "outputs": [],
   "source": [
    "import numpy as np"
   ]
  },
  {
   "cell_type": "markdown",
   "metadata": {},
   "source": [
    "## Axis Parameter\n",
    "\n",
    "Many operations in the `numpy` package can take an optional `axis` parameter to specify which dimensions the operation is to be applied.  This is extremely useful for multi-dimensional data.  To illustrate the `axis` parameter, consider a matrix the `(3,2)` array `X` defined as:"
   ]
  },
  {
   "cell_type": "code",
   "execution_count": 3,
   "metadata": {},
   "outputs": [
    {
     "name": "stdout",
     "output_type": "stream",
     "text": [
      "[[0 1]\n",
      " [2 3]\n",
      " [4 5]]\n"
     ]
    }
   ],
   "source": [
    "X = np.arange(6).reshape(3,2)#生成6个元素矩阵并重新shape成3行2列\n",
    "print(X)"
   ]
  },
  {
   "cell_type": "markdown",
   "metadata": {},
   "source": [
    "An operation like `np.mean` or `np.sum` takes the mean or sum of *all* elements in the array. "
   ]
  },
  {
   "cell_type": "code",
   "execution_count": 4,
   "metadata": {},
   "outputs": [
    {
     "name": "stdout",
     "output_type": "stream",
     "text": [
      "2.5\n",
      "15\n"
     ]
    }
   ],
   "source": [
    "print(np.mean(X))\n",
    "print(np.sum(X))"
   ]
  },
  {
   "cell_type": "markdown",
   "metadata": {},
   "source": [
    "To take only the `sum` along each column, we can use the `axis` parameter."
   ]
  },
  {
   "cell_type": "code",
   "execution_count": 5,
   "metadata": {},
   "outputs": [
    {
     "name": "stdout",
     "output_type": "stream",
     "text": [
      "[2. 3.]\n",
      "[6 9]\n"
     ]
    }
   ],
   "source": [
    "print(np.mean(X,axis=0))#axis = 0表示竖直方向，axis = 1表示水平方向，对水平方向取平均数，矩阵由3*2变为1*2\n",
    "print(np.sum(X,axis=0))#水平方向上求和，矩阵由3*2变为1*2 axis处在哪个维度就收缩那个维度(以...为轴 )"
   ]
  },
  {
   "cell_type": "markdown",
   "metadata": {},
   "source": [
    "Since `X` has shape `(3,2)`, the output `np.sum(X,axis=0)` is of shape `(2,)`.  Similarly, we can take the `sum` along each row:"
   ]
  },
  {
   "cell_type": "code",
   "execution_count": 6,
   "metadata": {},
   "outputs": [
    {
     "name": "stdout",
     "output_type": "stream",
     "text": [
      "[1 5 9]\n"
     ]
    }
   ],
   "source": [
    "print(np.sum(X,axis=1))#水平方向求和(对每列进行求和)"
   ]
  },
  {
   "cell_type": "markdown",
   "metadata": {},
   "source": [
    "You can apply this to higher-order arrays:"
   ]
  },
  {
   "cell_type": "code",
   "execution_count": 7,
   "metadata": {},
   "outputs": [
    {
     "name": "stdout",
     "output_type": "stream",
     "text": [
      "X = \n",
      "[[[ 0  1  2  3]\n",
      "  [ 4  5  6  7]\n",
      "  [ 8  9 10 11]]\n",
      "\n",
      " [[12 13 14 15]\n",
      "  [16 17 18 19]\n",
      "  [20 21 22 23]]]\n",
      "Y0 = \n",
      "[[12 14 16 18]\n",
      " [20 22 24 26]\n",
      " [28 30 32 34]]\n",
      "Y1 = \n",
      "[[12 15 18 21]\n",
      " [48 51 54 57]]\n",
      "Y2 = \n",
      "[[ 6 22 38]\n",
      " [54 70 86]]\n"
     ]
    }
   ],
   "source": [
    "X = np.arange(24).reshape(2,3,4)  # shape = (2,3,4)这才叫三维矩阵\n",
    "Y0 = np.sum(X,axis=0)             # shape = (3,4)\n",
    "Y1 = np.sum(X,axis=1)             # shape = (2,4)\n",
    "Y2 = np.sum(X,axis=2)             # shape = (2,3)\n",
    "print('X = ')\n",
    "print(X)\n",
    "print('Y0 = ')\n",
    "print(Y0)\n",
    "print('Y1 = ')\n",
    "print(Y1)\n",
    "print('Y2 = ')\n",
    "print(Y2)"
   ]
  },
  {
   "cell_type": "markdown",
   "metadata": {},
   "source": [
    "## Broadcasting\n",
    "\n",
    "**Broadcasting** is a powerful tool in Python for performing operations on matrices that we will use throughout the ML class.  A good tutorial on broadcasting can be found on the [scipy broadcasting page](https://docs.scipy.org/doc/numpy-1.13.0/user/basics.broadcasting.html).  Here we provide some examples.   "
   ]
  },
  {
   "cell_type": "markdown",
   "metadata": {},
   "source": [
    "### Example 1:  Mean Removal\n",
    "\n",
    "Suppose that `X` is a data matrix of shape `(n,p)`.  That is, there are `n` data points and `p` features per point.  Often, we have to remove the mean from each feature.  That is, we want to compute the mean for each feature and then remove the mean from each column.  We could do this with a for-loop as:\n",
    "   \n",
    "    Xm = np.zeros(p)      # Mean for each feature\n",
    "    X1_demean = np.zeros((n,p))  # Transformed features with the means removed\n",
    "    for j in range(p):\n",
    "       Xm[j] = np.mean(X[:,j])\n",
    "       for i in range(n):\n",
    "           X_demean[i,j] = X[i,j] - Xm[j]\n",
    "           \n",
    "The code below does this without a for loop using the `axis` parameter and broadcasting."
   ]
  },
  {
   "cell_type": "code",
   "execution_count": 8,
   "metadata": {},
   "outputs": [
    {
     "name": "stdout",
     "output_type": "stream",
     "text": [
      "[[0.71794052 0.14903807 0.23011439 0.85473954]\n",
      " [0.83433253 0.035321   0.99401511 0.88126509]\n",
      " [0.21744893 0.96639831 0.81512184 0.61057898]\n",
      " [0.70213556 0.4389362  0.60194498 0.33208814]\n",
      " [0.43518321 0.77261223 0.40333032 0.72486398]\n",
      " [0.56799405 0.64766041 0.31149332 0.85009345]\n",
      " [0.96643453 0.25772365 0.71628463 0.14552988]\n",
      " [0.42434768 0.24231289 0.78031021 0.35239952]\n",
      " [0.77764588 0.70706987 0.1362349  0.30649203]\n",
      " [0.25324017 0.47702661 0.04657431 0.73218014]] (10, 4)\n",
      "X[:,:] =  \n",
      " [[0.71794052 0.14903807 0.23011439 0.85473954]\n",
      " [0.83433253 0.035321   0.99401511 0.88126509]\n",
      " [0.21744893 0.96639831 0.81512184 0.61057898]\n",
      " [0.70213556 0.4389362  0.60194498 0.33208814]\n",
      " [0.43518321 0.77261223 0.40333032 0.72486398]\n",
      " [0.56799405 0.64766041 0.31149332 0.85009345]\n",
      " [0.96643453 0.25772365 0.71628463 0.14552988]\n",
      " [0.42434768 0.24231289 0.78031021 0.35239952]\n",
      " [0.77764588 0.70706987 0.1362349  0.30649203]\n",
      " [0.25324017 0.47702661 0.04657431 0.73218014]] (10, 4)\n",
      "X[:,] =  \n",
      " [[0.71794052 0.14903807 0.23011439 0.85473954]\n",
      " [0.83433253 0.035321   0.99401511 0.88126509]\n",
      " [0.21744893 0.96639831 0.81512184 0.61057898]\n",
      " [0.70213556 0.4389362  0.60194498 0.33208814]\n",
      " [0.43518321 0.77261223 0.40333032 0.72486398]\n",
      " [0.56799405 0.64766041 0.31149332 0.85009345]\n",
      " [0.96643453 0.25772365 0.71628463 0.14552988]\n",
      " [0.42434768 0.24231289 0.78031021 0.35239952]\n",
      " [0.77764588 0.70706987 0.1362349  0.30649203]\n",
      " [0.25324017 0.47702661 0.04657431 0.73218014]] (10, 4)\n",
      "X[None,:] =  \n",
      " [[[0.71794052 0.14903807 0.23011439 0.85473954]\n",
      "  [0.83433253 0.035321   0.99401511 0.88126509]\n",
      "  [0.21744893 0.96639831 0.81512184 0.61057898]\n",
      "  [0.70213556 0.4389362  0.60194498 0.33208814]\n",
      "  [0.43518321 0.77261223 0.40333032 0.72486398]\n",
      "  [0.56799405 0.64766041 0.31149332 0.85009345]\n",
      "  [0.96643453 0.25772365 0.71628463 0.14552988]\n",
      "  [0.42434768 0.24231289 0.78031021 0.35239952]\n",
      "  [0.77764588 0.70706987 0.1362349  0.30649203]\n",
      "  [0.25324017 0.47702661 0.04657431 0.73218014]]] (1, 10, 4)\n",
      "X[:,None] =  \n",
      " [[[0.71794052 0.14903807 0.23011439 0.85473954]]\n",
      "\n",
      " [[0.83433253 0.035321   0.99401511 0.88126509]]\n",
      "\n",
      " [[0.21744893 0.96639831 0.81512184 0.61057898]]\n",
      "\n",
      " [[0.70213556 0.4389362  0.60194498 0.33208814]]\n",
      "\n",
      " [[0.43518321 0.77261223 0.40333032 0.72486398]]\n",
      "\n",
      " [[0.56799405 0.64766041 0.31149332 0.85009345]]\n",
      "\n",
      " [[0.96643453 0.25772365 0.71628463 0.14552988]]\n",
      "\n",
      " [[0.42434768 0.24231289 0.78031021 0.35239952]]\n",
      "\n",
      " [[0.77764588 0.70706987 0.1362349  0.30649203]]\n",
      "\n",
      " [[0.25324017 0.47702661 0.04657431 0.73218014]]] (10, 1, 4)\n",
      "X[None,None] =  \n",
      " [[[[0.71794052 0.14903807 0.23011439 0.85473954]\n",
      "   [0.83433253 0.035321   0.99401511 0.88126509]\n",
      "   [0.21744893 0.96639831 0.81512184 0.61057898]\n",
      "   [0.70213556 0.4389362  0.60194498 0.33208814]\n",
      "   [0.43518321 0.77261223 0.40333032 0.72486398]\n",
      "   [0.56799405 0.64766041 0.31149332 0.85009345]\n",
      "   [0.96643453 0.25772365 0.71628463 0.14552988]\n",
      "   [0.42434768 0.24231289 0.78031021 0.35239952]\n",
      "   [0.77764588 0.70706987 0.1362349  0.30649203]\n",
      "   [0.25324017 0.47702661 0.04657431 0.73218014]]]] (1, 1, 10, 4)\n",
      "X[None,None,:] =  \n",
      " [[[[0.71794052 0.14903807 0.23011439 0.85473954]\n",
      "   [0.83433253 0.035321   0.99401511 0.88126509]\n",
      "   [0.21744893 0.96639831 0.81512184 0.61057898]\n",
      "   [0.70213556 0.4389362  0.60194498 0.33208814]\n",
      "   [0.43518321 0.77261223 0.40333032 0.72486398]\n",
      "   [0.56799405 0.64766041 0.31149332 0.85009345]\n",
      "   [0.96643453 0.25772365 0.71628463 0.14552988]\n",
      "   [0.42434768 0.24231289 0.78031021 0.35239952]\n",
      "   [0.77764588 0.70706987 0.1362349  0.30649203]\n",
      "   [0.25324017 0.47702661 0.04657431 0.73218014]]]] (1, 1, 10, 4)\n"
     ]
    }
   ],
   "source": [
    "# Generate some random data\n",
    "n = 10\n",
    "p = 4\n",
    "X = np.random.rand(n,p)\n",
    "print(X,X.shape)\n",
    "print('X[:,:] = ','\\n',X[:,:],X[:,:].shape)#1\n",
    "print('X[:,] = ','\\n',X[:,],X[:,].shape)#2\n",
    "print('X[None,:] = ','\\n',X[None,:],X[None,:].shape)#3\n",
    "print('X[:,None] = ','\\n',X[:,None],X[:,None].shape)#4\n",
    "print('X[None,None] = ','\\n',X[None,None],X[None,None].shape)#5\n",
    "print('X[None,None,:] = ','\\n',X[None,None,:],X[None,None,:].shape)#6\n",
    "# 1 = 2 \n",
    "# 5 = 6\n",
    "# 3,4互为转置\n",
    "# None相当于增加一个维度,强行把数组转化为矩阵，因为数组不能参与numpy.array的操作\n",
    "# Compute the mean per column using the axis command\n",
    "Xm = np.mean(X,axis=0)  # This is a p-dim matrix axis = 0 对每列取平均值\n",
    "# Subtract the mean"
   ]
  },
  {
   "cell_type": "code",
   "execution_count": 9,
   "metadata": {},
   "outputs": [
    {
     "name": "stdout",
     "output_type": "stream",
     "text": [
      "[0.5896703  0.46940992 0.5035424  0.57902308]\n",
      "[[0.5896703  0.46940992 0.5035424  0.57902308]] \n",
      " [[0.5896703 ]\n",
      " [0.46940992]\n",
      " [0.5035424 ]\n",
      " [0.57902308]]\n",
      "[0.5896703  0.46940992 0.5035424  0.57902308] \n",
      " []\n",
      "(4,) (1, 4) (4, 1) (4,) (0,)\n"
     ]
    }
   ],
   "source": [
    "print(Xm) #自动退化为list的向量,不能进行形如[:.]的操作，需要用reshape或者None进行修正\n",
    "print(Xm[None,:],'\\n',Xm[:,None]) #行矩阵和列矩阵，哪边长度为1哪边为None\n",
    "print(Xm[0:],'\\n',Xm[:0]) #按位操作向量\n",
    "print(Xm.shape,Xm[None,:].shape,Xm[:,None].shape,Xm[0:].shape,Xm[:0].shape)"
   ]
  },
  {
   "cell_type": "markdown",
   "metadata": {},
   "source": [
    "The command `Xm = np.mean(X,axis=0)` computes the mean of each column which is a `p` dimensional array.  Then, `Xm[None,:]` converts this to a `(1,p)` shape array.  Using Python broadcasting, we can then subtract the `Xm[None,:]` from `X`."
   ]
  },
  {
   "cell_type": "markdown",
   "metadata": {},
   "source": [
    "### Example 2:  Standardizing variables\n",
    "\n",
    "A variant of the above example is to *standardize* the features, where we compute the transform variables,\n",
    "\n",
    "    Z[i,j] = (X[i,j] - Xm[j])/ Xstd[j]\n",
    "    \n",
    "where `Xstd[j]` is the standard deviation per feature.  This can be done as follows:"
   ]
  },
  {
   "cell_type": "code",
   "execution_count": 10,
   "metadata": {},
   "outputs": [
    {
     "name": "stdout",
     "output_type": "stream",
     "text": [
      "[[ 0.53743025 -1.12178243 -0.89439139  1.07233489]\n",
      " [ 1.02509289 -1.51996291  1.60435122  1.17549982]\n",
      " [-1.55954394  1.74020544  1.01918586  0.12272932]\n",
      " [ 0.4712102  -0.10670377  0.32187786 -0.96039584]\n",
      " [-0.64727452  1.06166325 -0.32779679  0.56721419]\n",
      " [-0.09081982  0.62414429 -0.62819843  1.05426502]\n",
      " [ 1.5785777  -0.74121975  0.69588635 -1.68597069]\n",
      " [-0.69267355 -0.79518053  0.90531597 -0.88139946]\n",
      " [ 0.78758554  0.83216659 -1.20147406 -1.05994593]\n",
      " [-1.40958476  0.02666982 -1.49475659  0.59566869]] \n",
      " [[ 0.53743025 -1.12178243 -0.89439139  1.07233489]\n",
      " [ 1.02509289 -1.51996291  1.60435122  1.17549982]\n",
      " [-1.55954394  1.74020544  1.01918586  0.12272932]\n",
      " [ 0.4712102  -0.10670377  0.32187786 -0.96039584]\n",
      " [-0.64727452  1.06166325 -0.32779679  0.56721419]\n",
      " [-0.09081982  0.62414429 -0.62819843  1.05426502]\n",
      " [ 1.5785777  -0.74121975  0.69588635 -1.68597069]\n",
      " [-0.69267355 -0.79518053  0.90531597 -0.88139946]\n",
      " [ 0.78758554  0.83216659 -1.20147406 -1.05994593]\n",
      " [-1.40958476  0.02666982 -1.49475659  0.59566869]] \n",
      " [[ 0.53743025 -1.12178243 -0.89439139  1.07233489]\n",
      " [ 1.02509289 -1.51996291  1.60435122  1.17549982]\n",
      " [-1.55954394  1.74020544  1.01918586  0.12272932]\n",
      " [ 0.4712102  -0.10670377  0.32187786 -0.96039584]\n",
      " [-0.64727452  1.06166325 -0.32779679  0.56721419]\n",
      " [-0.09081982  0.62414429 -0.62819843  1.05426502]\n",
      " [ 1.5785777  -0.74121975  0.69588635 -1.68597069]\n",
      " [-0.69267355 -0.79518053  0.90531597 -0.88139946]\n",
      " [ 0.78758554  0.83216659 -1.20147406 -1.05994593]\n",
      " [-1.40958476  0.02666982 -1.49475659  0.59566869]] \n",
      " [[ 0.53743025 -1.12178243 -0.89439139  1.07233489]\n",
      " [ 1.02509289 -1.51996291  1.60435122  1.17549982]\n",
      " [-1.55954394  1.74020544  1.01918586  0.12272932]\n",
      " [ 0.4712102  -0.10670377  0.32187786 -0.96039584]\n",
      " [-0.64727452  1.06166325 -0.32779679  0.56721419]\n",
      " [-0.09081982  0.62414429 -0.62819843  1.05426502]\n",
      " [ 1.5785777  -0.74121975  0.69588635 -1.68597069]\n",
      " [-0.69267355 -0.79518053  0.90531597 -0.88139946]\n",
      " [ 0.78758554  0.83216659 -1.20147406 -1.05994593]\n",
      " [-1.40958476  0.02666982 -1.49475659  0.59566869]]\n"
     ]
    }
   ],
   "source": [
    "Xstd = np.std(X,axis=0)\n",
    "Z1 = (X-Xm[None,:])/Xstd[None,:]\n",
    "Z2 = (X-Xm)/Xstd\n",
    "Z3 = (X - np.mean(X,axis = 0))/np.std(X,axis = 0)\n",
    "Z4 = (X - np.mean(X,axis = 0)[None,:])/np.std(X,axis = 0)[None,:]\n",
    "print(Z1,'\\n',Z2,'\\n',Z3,'\\n',Z4)"
   ]
  },
  {
   "cell_type": "markdown",
   "metadata": {},
   "source": [
    "### Example 3:  Distances\n",
    "\n",
    "Here is a more complicated example.  Suppose we have a data matrix `X` of shape `(nx,p)` and a second set of points, `Y` of shape `(ny,p)`. For each `i` and `j`, we want to compute the distances, \n",
    "\n",
    "     d[i,j] = np.sum((X[i,:] - Y[j,:])**2)\n",
    "     \n",
    "This represents the distances between the vectors `X[i,:]` and `Y[j,:]`.  This sort of computation is used for clustering and nearest neighbors.  We can do this without a for loop as follows"
   ]
  },
  {
   "cell_type": "code",
   "execution_count": 11,
   "metadata": {},
   "outputs": [
    {
     "name": "stdout",
     "output_type": "stream",
     "text": [
      "[[[1 1 1]]] [[[1 1 1]]]\n",
      "[[3]]\n"
     ]
    }
   ],
   "source": [
    "# Some random data\n",
    "nx = 3\n",
    "ny = 3\n",
    "p = 2\n",
    "X = np.array([[1,1,1]])\n",
    "Y = np.array([[0,0,0]])\n",
    "\n",
    "# Computing the distances in two lines.  No for loop!\n",
    "DXY = X[:,None,:]-Y[None,:,:]\n",
    "print(DXY,(DXY**2))#None相当于取投影\n",
    "d = np.sum(DXY**2,axis=2)\n",
    "print(d)"
   ]
  },
  {
   "cell_type": "markdown",
   "metadata": {
    "collapsed": true
   },
   "source": [
    "How does this work? First, we use `None` keyword to reshape the matrices `X` and `Y` to compatible sizes\n",
    "\n",
    "     X[:,None,:]    # Shape nx,  1, p\n",
    "     Y[None,:,:]    # Shape 1,  ny, p\n",
    "     \n",
    "The two matrices can be subtracted so that\n",
    "\n",
    "     DXY[i,j,k]  = X[i,k] - Y[j,k]\n",
    "     \n",
    "Then, `d[i,j] = sum_k (X[i,k] - Y[j,k])**2`, which is the norm squared of the vector differences."
   ]
  },
  {
   "cell_type": "markdown",
   "metadata": {},
   "source": [
    "### Example 4:  Outer product\n",
    "\n",
    "The *outer product* of vectors `x` and `y` is the matrix `Z[i,j] = x[i]y[j]`.  This can be performed in one line as follows"
   ]
  },
  {
   "cell_type": "code",
   "execution_count": 13,
   "metadata": {},
   "outputs": [
    {
     "name": "stdout",
     "output_type": "stream",
     "text": [
      "(1, 3) (1, 3)\n",
      "x =  [0.59638746 0.16993324 0.10540418] \n",
      " y =  [0.43105743 0.91176662 0.20503577] \n",
      " [[0.25707724 0.54376618 0.12228076]\n",
      " [0.07325099 0.15493946 0.03484239]\n",
      " [0.04543525 0.09610401 0.02161163]] \n",
      " Z2 =  [[0.43362833]]\n"
     ]
    }
   ],
   "source": [
    "# Some random data\n",
    "nx = 3\n",
    "ny = 3\n",
    "x = np.random.rand(nx)\n",
    "y = np.random.rand(ny).T\n",
    "print(x[None,:].shape,y[None,:].shape)\n",
    "# Compute the outer product in one line\n",
    "Z1 = x[:,None]*y[None,:]\n",
    "Z2 = np.dot(x[None,:],y[:,None]) #果然...\n",
    "print('x = ',x,'\\n','y = ',y,'\\n',Z1,'\\n','Z2 = ',Z2)"
   ]
  },
  {
   "cell_type": "markdown",
   "metadata": {},
   "source": [
    "Here:\n",
    "\n",
    "     x[:,None] # Has shape (nx,  1)\n",
    "     y[None,:] # Has shape ( 1, ny)\n",
    "     \n",
    "So, with python broadcasting:\n",
    "\n",
    "     Z = x[:,None]*y[None,:] # has shape (nx,  ny)\n"
   ]
  },
  {
   "cell_type": "markdown",
   "metadata": {
    "collapsed": true
   },
   "source": [
    "**Exercise 1:**  Given a matrix `X`, compute the matrix `Y`, where the rows of `X` are normaized to one.  That is:\n",
    "\n",
    "     Y[i,j] = X[i,j] / sum_j X[i,j]   "
   ]
  },
  {
   "cell_type": "code",
   "execution_count": 98,
   "metadata": {},
   "outputs": [
    {
     "name": "stdout",
     "output_type": "stream",
     "text": [
      "[[0.46821687 0.11696287 0.41482026]\n",
      " [0.50239663 0.04181354 0.45578983]\n",
      " [0.15637667 0.39167146 0.45195187]\n",
      " [0.34288259 0.56841625 0.08870116]]\n"
     ]
    }
   ],
   "source": [
    "X = np.random.rand(4,3)\n",
    "Y = X/np.sum(X,axis = 1)[:,None]\n",
    "print(Y)"
   ]
  },
  {
   "cell_type": "markdown",
   "metadata": {},
   "source": [
    "**Exercise 2:** Diagonal multiplication.  Given a matrix `X` and a vector `d`, compute `Y = diag(d)*X`."
   ]
  },
  {
   "cell_type": "code",
   "execution_count": 15,
   "metadata": {},
   "outputs": [],
   "source": [
    "X = np.random.rand(5,3)\n",
    "d = np.random.rand(5)\n",
    "# Y = ..."
   ]
  },
  {
   "cell_type": "code",
   "execution_count": null,
   "metadata": {
    "collapsed": true
   },
   "outputs": [],
   "source": []
  }
 ],
 "metadata": {
  "anaconda-cloud": {},
  "kernelspec": {
   "display_name": "Python 3",
   "language": "python",
   "name": "python3"
  },
  "language_info": {
   "codemirror_mode": {
    "name": "ipython",
    "version": 3
   },
   "file_extension": ".py",
   "mimetype": "text/x-python",
   "name": "python",
   "nbconvert_exporter": "python",
   "pygments_lexer": "ipython3",
   "version": "3.6.8"
  }
 },
 "nbformat": 4,
 "nbformat_minor": 1
}
